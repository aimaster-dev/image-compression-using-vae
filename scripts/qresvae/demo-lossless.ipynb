{
 "cells": [
  {
   "cell_type": "code",
   "execution_count": 1,
   "metadata": {},
   "outputs": [
    {
     "name": "stderr",
     "output_type": "stream",
     "text": [
      "d:\\libraries\\anaconda3\\envs\\pt20env\\lib\\site-packages\\tqdm\\auto.py:22: TqdmWarning: IProgress not found. Please update jupyter and ipywidgets. See https://ipywidgets.readthedocs.io/en/stable/user_install.html\n",
      "  from .autonotebook import tqdm as notebook_tqdm\n"
     ]
    }
   ],
   "source": [
    "import pickle\n",
    "from pathlib import Path\n",
    "from PIL import Image\n",
    "import torch\n",
    "import torchvision.transforms.functional as tvf\n",
    "\n",
    "torch.set_grad_enabled(False)\n",
    "\n",
    "from lvae.models.qresvae.zoo import qres34m_lossless"
   ]
  },
  {
   "attachments": {},
   "cell_type": "markdown",
   "metadata": {},
   "source": [
    "Initialize model and load pre-trained weights"
   ]
  },
  {
   "cell_type": "code",
   "execution_count": 2,
   "metadata": {},
   "outputs": [
    {
     "name": "stderr",
     "output_type": "stream",
     "text": [
      "Downloading: \"https://huggingface.co/duanzh0/my-model-weights/resolve/main/qres34m/qres34m-lossless.pt\" to C:\\Users\\duanz/.cache\\torch\\hub\\checkpoints\\qres34m-lossless.pt\n",
      "100%|██████████| 130M/130M [00:03<00:00, 39.3MB/s] \n"
     ]
    }
   ],
   "source": [
    "model = qres34m_lossless(pretrained=True)\n",
    "\n",
    "model.eval()\n",
    "model.compress_mode(True)"
   ]
  },
  {
   "attachments": {},
   "cell_type": "markdown",
   "metadata": {},
   "source": [
    "Compress an RGB image"
   ]
  },
  {
   "cell_type": "code",
   "execution_count": 3,
   "metadata": {},
   "outputs": [],
   "source": [
    "img_path = '../../images/collie128.png'\n",
    "\n",
    "im = tvf.to_tensor(Image.open(img_path)).unsqueeze_(0)\n",
    "compressed_obj = model.compress(im)"
   ]
  },
  {
   "attachments": {},
   "cell_type": "markdown",
   "metadata": {},
   "source": [
    "Save to file, compute bit rate"
   ]
  },
  {
   "cell_type": "code",
   "execution_count": 4,
   "metadata": {},
   "outputs": [
    {
     "name": "stdout",
     "output_type": "stream",
     "text": [
      "Compressed file size: 286112 bits = 17.462891 bpp\n"
     ]
    }
   ],
   "source": [
    "save_path = '../../runs/image.bits'\n",
    "with open(save_path, 'wb') as f:\n",
    "    pickle.dump(compressed_obj, file=f)\n",
    "\n",
    "total_bits = Path(save_path).stat().st_size * 8\n",
    "bpp = total_bits / (im.shape[2] * im.shape[3])\n",
    "print(f'Compressed file size: {total_bits} bits = {bpp:.6f} bpp')"
   ]
  },
  {
   "attachments": {},
   "cell_type": "markdown",
   "metadata": {},
   "source": [
    "Decompress and reconstruct the image"
   ]
  },
  {
   "cell_type": "code",
   "execution_count": 5,
   "metadata": {},
   "outputs": [],
   "source": [
    "with open(save_path,'rb') as f:\n",
    "    compressed_obj = pickle.load(file=f)\n",
    "\n",
    "im_hat = model.decompress(compressed_obj).squeeze(0).cpu()"
   ]
  },
  {
   "attachments": {},
   "cell_type": "markdown",
   "metadata": {},
   "source": [
    "Check if the compression is lossless"
   ]
  },
  {
   "cell_type": "code",
   "execution_count": 9,
   "metadata": {},
   "outputs": [
    {
     "data": {
      "text/plain": [
       "True"
      ]
     },
     "execution_count": 9,
     "metadata": {},
     "output_type": "execute_result"
    }
   ],
   "source": [
    "real = tvf.pil_to_tensor(Image.open(img_path)) # uint8\n",
    "fake = torch.round_(im_hat * 255.0).to(dtype=torch.uint8)\n",
    "\n",
    "torch.equal(real, fake)"
   ]
  }
 ],
 "metadata": {
  "kernelspec": {
   "display_name": "Python 3.9.7 ('pt110env')",
   "language": "python",
   "name": "python3"
  },
  "language_info": {
   "codemirror_mode": {
    "name": "ipython",
    "version": 3
   },
   "file_extension": ".py",
   "mimetype": "text/x-python",
   "name": "python",
   "nbconvert_exporter": "python",
   "pygments_lexer": "ipython3",
   "version": "3.9.16"
  },
  "orig_nbformat": 4,
  "vscode": {
   "interpreter": {
    "hash": "dd99ce241fc9a98adb16dacebaa58469dd0c84ca3cfa9b25e7e9cb4caa7bb934"
   }
  }
 },
 "nbformat": 4,
 "nbformat_minor": 2
}
